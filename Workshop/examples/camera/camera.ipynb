{
 "cells": [
  {
   "cell_type": "markdown",
   "metadata": {},
   "source": [
    "# Camera example\n",
    "\n",
    "These notebook outlines a method you can use to take a picture with your webcam using opencv and convert the image into ASCII art using the same technique as the workshop\n",
    "\n",
    "[Install and activate a virtual environment](https://packaging.python.org/en/latest/guides/installing-using-pip-and-virtual-environments/)\n",
    "\n",
    "```\n",
    "python3 -m venv .venv\n",
    "source .venv/bin/activate\n",
    "which python\n",
    ".venv/bin/python\n",
    "```\n",
    "\n",
    "Install requirements with pip, if you haven't cloned the repo you can use curl to download the `requirements.txt` file\n",
    "\n",
    "```\n",
    "curl https://raw.githubusercontent.com/hevansDev/ascii-booth/main/Workshop/examples/camera/requirements.txt -o requirements.txt\n",
    "python3 -m pip install -r requirements.txt\n",
    "```"
   ]
  },
  {
   "cell_type": "code",
   "execution_count": 9,
   "metadata": {},
   "outputs": [],
   "source": [
    "import cv2\n",
    "\n",
    "from time import sleep\n",
    "from PIL import Image, ImageDraw, ImageFont"
   ]
  },
  {
   "cell_type": "code",
   "execution_count": null,
   "metadata": {},
   "outputs": [],
   "source": [
    "cap = cv2.VideoCapture(0)  # /dev/video0\n",
    "sleep(2)\n",
    "ret, frame = cap.read()\n",
    "cap.release()\n",
    "\n",
    "photo = Image.fromarray(cv2.cvtColor(frame, cv2.COLOR_BGR2RGB))\n",
    "\n",
    "display(photo)"
   ]
  },
  {
   "cell_type": "code",
   "execution_count": null,
   "metadata": {},
   "outputs": [],
   "source": [
    "characters = \"Ñ@#W$9876543210?!abc;:+=-,._ \"  # Taken from https://play.ertdfgcvb.xyz/\n",
    "\n",
    "pixelWidth = 128  # How may characters wide the resulting image will be\n",
    "pixelHeight = 64  # How many characters tall the resulting image will be\n",
    "\n",
    "\n",
    "def greyscale_to_index(num):\n",
    "    return int(num / 255 * (len(characters) - 1))\n",
    "\n",
    "\n",
    "def image_to_ascii(img):\n",
    "    greyImage = img.convert(\"L\")\n",
    "    resizedImage = greyImage.resize((80, 70), resample=Image.Resampling.BILINEAR)\n",
    "    pixels = resizedImage.load()\n",
    "    ascii = \"\"\n",
    "    for y in range(0, resizedImage.height):\n",
    "        for x in range(0, resizedImage.width):\n",
    "            pixel = pixels[x, y]\n",
    "            i = greyscale_to_index(pixel)\n",
    "            ascii += str(characters[i])\n",
    "        ascii += \"\\n\"\n",
    "    return ascii\n",
    "\n",
    "\n",
    "resized_image = photo.resize((pixelWidth, pixelHeight), Image.Resampling.NEAREST)\n",
    "ascii_picture = image_to_ascii(resized_image)\n",
    "\n",
    "print(ascii_picture)"
   ]
  },
  {
   "cell_type": "code",
   "execution_count": null,
   "metadata": {},
   "outputs": [],
   "source": [
    "img = Image.new(\n",
    "    \"L\", (8 * pixelWidth, 20 * pixelHeight), 255\n",
    ")  # Blank canvas to draw art onto\n",
    "draw = ImageDraw.Draw(img)\n",
    "font = ImageFont.truetype(\"../../fonts/courier.ttf\", 24)\n",
    "draw.text((0, 0), ascii_picture, 0, font=font)\n",
    "display(img.resize((500, 500)))"
   ]
  }
 ],
 "metadata": {
  "kernelspec": {
   "display_name": "Python 3",
   "language": "python",
   "name": "python3"
  },
  "language_info": {
   "codemirror_mode": {
    "name": "ipython",
    "version": 3
   },
   "file_extension": ".py",
   "mimetype": "text/x-python",
   "name": "python",
   "nbconvert_exporter": "python",
   "pygments_lexer": "ipython3",
   "version": "3.11.8"
  }
 },
 "nbformat": 4,
 "nbformat_minor": 2
}
